{
 "metadata": {
  "language_info": {
   "codemirror_mode": {
    "name": "ipython",
    "version": 3
   },
   "file_extension": ".py",
   "mimetype": "text/x-python",
   "name": "python",
   "nbconvert_exporter": "python",
   "pygments_lexer": "ipython3",
   "version": "3.8.5"
  },
  "orig_nbformat": 4,
  "kernelspec": {
   "name": "python3",
   "display_name": "Python 3.8.5 64-bit ('venv': venv)"
  },
  "interpreter": {
   "hash": "1acb1e118a75fea30ea7b583ce3945b85f28fbdc1bbf73916f214b7322deb0fd"
  }
 },
 "nbformat": 4,
 "nbformat_minor": 2,
 "cells": [
  {
   "cell_type": "code",
   "execution_count": 76,
   "metadata": {},
   "outputs": [],
   "source": [
    "import datetime\n",
    "import json\n",
    "import requests\n",
    "from bs4 import BeautifulSoup"
   ]
  },
  {
   "cell_type": "code",
   "execution_count": 61,
   "metadata": {},
   "outputs": [],
   "source": [
    "def get_page(page=1):\n",
    "    resp = requests.get(f\"https://itviec.com/it-jobs/python?page={page}\")\n",
    "    soup = BeautifulSoup(resp.text, 'html.parser')\n",
    "    return soup"
   ]
  },
  {
   "cell_type": "code",
   "execution_count": 62,
   "metadata": {},
   "outputs": [],
   "source": [
    "def extract_job(jobnode):\n",
    "    return jobnode.h2.text.strip()"
   ]
  },
  {
   "cell_type": "code",
   "execution_count": 67,
   "metadata": {},
   "outputs": [],
   "source": [
    "def extract_fullpath(jobnode):\n",
    "    path = jobnode.h2.a['href']\n",
    "    fullpath = f\"https://itviec.com{path}\"\n",
    "    return fullpath"
   ]
  },
  {
   "cell_type": "code",
   "execution_count": 120,
   "metadata": {},
   "outputs": [],
   "source": [
    "def extract_address(jobnode):\n",
    "    address = []\n",
    "    for i in jobnode.find_all('span', class_='text'):\n",
    "        address.append(i.text)\n",
    "    return \" - \".join(address)"
   ]
  },
  {
   "cell_type": "code",
   "execution_count": 66,
   "metadata": {},
   "outputs": [],
   "source": [
    "def extract_distance_time(jobnode):\n",
    "    return jobnode.find('span', class_='distance-time').text.strip()"
   ]
  },
  {
   "cell_type": "code",
   "execution_count": 127,
   "metadata": {},
   "outputs": [],
   "source": [
    "def get_jobs():\n",
    "    page = 1\n",
    "    jobs = []\n",
    "    while True:\n",
    "        soup = get_page(page)\n",
    "        if not soup.find('div', class_='job_content'):\n",
    "            break\n",
    "        for j in soup.find_all('div', class_='job_content'):\n",
    "            job_info = {\n",
    "                'title': extract_job(j),\n",
    "                'url': extract_fullpath(j),\n",
    "                'address': extract_address(j),\n",
    "                'distance_time': extract_distance_time(j)\n",
    "            }\n",
    "            jobs.append(job_info)\n",
    "        page += 1\n",
    "    return jobs"
   ]
  },
  {
   "cell_type": "code",
   "execution_count": 130,
   "metadata": {},
   "outputs": [],
   "source": [
    "import pandas as pd"
   ]
  },
  {
   "cell_type": "code",
   "execution_count": 131,
   "metadata": {},
   "outputs": [
    {
     "output_type": "execute_result",
     "data": {
      "text/plain": [
       "                                               title  \\\n",
       "0  Technical Lead (Java, Python)-Computer Vision ...   \n",
       "1                Data Engineer (AWS, Python or Java)   \n",
       "2            Backend Software Engineer-NodeJS/Python   \n",
       "3                        Data Engineer (SQL, Python)   \n",
       "4                AI Engineer (Python, C++, Database)   \n",
       "\n",
       "                                                 url      address  \\\n",
       "0  https://itviec.com/it-jobs/technical-lead-java...       Ha Noi   \n",
       "1  https://itviec.com/it-jobs/data-engineer-aws-p...  Ho Chi Minh   \n",
       "2  https://itviec.com/it-jobs/backend-software-en...  Ho Chi Minh   \n",
       "3  https://itviec.com/it-jobs/data-engineer-sql-p...       Ha Noi   \n",
       "4  https://itviec.com/it-jobs/ky-su-ai-chuyen-ve-...       Ha Noi   \n",
       "\n",
       "  distance_time  \n",
       "0           10h  \n",
       "1           12h  \n",
       "2           18h  \n",
       "3            1d  \n",
       "4            1d  "
      ],
      "text/html": "<div>\n<style scoped>\n    .dataframe tbody tr th:only-of-type {\n        vertical-align: middle;\n    }\n\n    .dataframe tbody tr th {\n        vertical-align: top;\n    }\n\n    .dataframe thead th {\n        text-align: right;\n    }\n</style>\n<table border=\"1\" class=\"dataframe\">\n  <thead>\n    <tr style=\"text-align: right;\">\n      <th></th>\n      <th>title</th>\n      <th>url</th>\n      <th>address</th>\n      <th>distance_time</th>\n    </tr>\n  </thead>\n  <tbody>\n    <tr>\n      <th>0</th>\n      <td>Technical Lead (Java, Python)-Computer Vision ...</td>\n      <td>https://itviec.com/it-jobs/technical-lead-java...</td>\n      <td>Ha Noi</td>\n      <td>10h</td>\n    </tr>\n    <tr>\n      <th>1</th>\n      <td>Data Engineer (AWS, Python or Java)</td>\n      <td>https://itviec.com/it-jobs/data-engineer-aws-p...</td>\n      <td>Ho Chi Minh</td>\n      <td>12h</td>\n    </tr>\n    <tr>\n      <th>2</th>\n      <td>Backend Software Engineer-NodeJS/Python</td>\n      <td>https://itviec.com/it-jobs/backend-software-en...</td>\n      <td>Ho Chi Minh</td>\n      <td>18h</td>\n    </tr>\n    <tr>\n      <th>3</th>\n      <td>Data Engineer (SQL, Python)</td>\n      <td>https://itviec.com/it-jobs/data-engineer-sql-p...</td>\n      <td>Ha Noi</td>\n      <td>1d</td>\n    </tr>\n    <tr>\n      <th>4</th>\n      <td>AI Engineer (Python, C++, Database)</td>\n      <td>https://itviec.com/it-jobs/ky-su-ai-chuyen-ve-...</td>\n      <td>Ha Noi</td>\n      <td>1d</td>\n    </tr>\n  </tbody>\n</table>\n</div>"
     },
     "metadata": {},
     "execution_count": 131
    }
   ],
   "source": [
    "df = pd.DataFrame(jobs)\n",
    "df.head(5)"
   ]
  },
  {
   "cell_type": "code",
   "execution_count": null,
   "metadata": {},
   "outputs": [],
   "source": []
  }
 ]
}